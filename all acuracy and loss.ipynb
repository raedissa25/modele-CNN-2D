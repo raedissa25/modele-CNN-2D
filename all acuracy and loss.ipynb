{
 "cells": [
  {
   "cell_type": "code",
   "execution_count": 1,
   "id": "c19cc6f9",
   "metadata": {},
   "outputs": [
    {
     "name": "stdout",
     "output_type": "stream",
     "text": [
      "Found 23021 images belonging to 4 classes.\n",
      "Found 8211 images belonging to 4 classes.\n",
      "Found 4410 images belonging to 4 classes.\n"
     ]
    },
    {
     "name": "stderr",
     "output_type": "stream",
     "text": [
      "WARNING:absl:Compiled the loaded model, but the compiled metrics have yet to be built. `model.compile_metrics` will be empty until you train or evaluate the model.\n",
      "C:\\Users\\21629\\AppData\\Local\\Packages\\PythonSoftwareFoundation.Python.3.11_qbz5n2kfra8p0\\LocalCache\\local-packages\\Python311\\site-packages\\keras\\src\\trainers\\data_adapters\\py_dataset_adapter.py:121: UserWarning: Your `PyDataset` class should call `super().__init__(**kwargs)` in its constructor. `**kwargs` can include `workers`, `use_multiprocessing`, `max_queue_size`. Do not pass these arguments to `fit()`, as they will be ignored.\n",
      "  self._warn_if_super_not_called()\n"
     ]
    },
    {
     "name": "stdout",
     "output_type": "stream",
     "text": [
      "\u001b[1m720/720\u001b[0m \u001b[32m━━━━━━━━━━━━━━━━━━━━\u001b[0m\u001b[37m\u001b[0m \u001b[1m616s\u001b[0m 851ms/step - accuracy: 0.8636 - loss: 0.6887\n",
      "\u001b[1m257/257\u001b[0m \u001b[32m━━━━━━━━━━━━━━━━━━━━\u001b[0m\u001b[37m\u001b[0m \u001b[1m414s\u001b[0m 2s/step - accuracy: 0.6915 - loss: 2.0081\n",
      "\u001b[1m138/138\u001b[0m \u001b[32m━━━━━━━━━━━━━━━━━━━━\u001b[0m\u001b[37m\u001b[0m \u001b[1m116s\u001b[0m 839ms/step - accuracy: 0.8456 - loss: 0.9231\n",
      "\n",
      "✅ Train Accuracy: 0.8623, Loss: 0.7046\n",
      "✅ Valid Accuracy: 0.6834, Loss: 2.0511\n",
      "✅ Test  Accuracy: 0.7447, Loss: 1.5135\n"
     ]
    }
   ],
   "source": [
    "import tensorflow as tf\n",
    "from tensorflow.keras.models import load_model\n",
    "from tensorflow.keras.preprocessing.image import ImageDataGenerator\n",
    "import os\n",
    "\n",
    "# --- Chemins des dossiers ---\n",
    "train_path = r\"C:\\Users\\21629\\Desktop\\Image dataset clean\\train\"\n",
    "valid_path = r\"C:\\Users\\21629\\Desktop\\Image dataset clean\\valid\"\n",
    "test_path  = r\"C:\\Users\\21629\\Desktop\\Image dataset clean\\test\"\n",
    "\n",
    "# --- Paramètres ---\n",
    "img_size = (224, 224)\n",
    "batch_size = 32\n",
    "\n",
    "# --- Générateurs de données ---\n",
    "datagen = ImageDataGenerator(rescale=1./255)\n",
    "\n",
    "train_gen = datagen.flow_from_directory(train_path, target_size=img_size, batch_size=batch_size, class_mode='categorical')\n",
    "valid_gen = datagen.flow_from_directory(valid_path, target_size=img_size, batch_size=batch_size, class_mode='categorical')\n",
    "test_gen  = datagen.flow_from_directory(test_path,  target_size=img_size, batch_size=batch_size, class_mode='categorical', shuffle=False)\n",
    "\n",
    "# --- Chargement du modèle ---\n",
    "model_path = r\"C:\\Users\\21629\\Desktop\\Image classification\\modéle CNN\\CNN_model.h5\"\n",
    "model = load_model(model_path)\n",
    "\n",
    "# --- Évaluation ---\n",
    "train_loss, train_acc = model.evaluate(train_gen)\n",
    "valid_loss, valid_acc = model.evaluate(valid_gen)\n",
    "test_loss, test_acc = model.evaluate(test_gen)\n",
    "\n",
    "# --- Affichage formaté ---\n",
    "print(f\"\\n✅ Train Accuracy: {train_acc:.4f}, Loss: {train_loss:.4f}\")\n",
    "print(f\"✅ Valid Accuracy: {valid_acc:.4f}, Loss: {valid_loss:.4f}\")\n",
    "print(f\"✅ Test  Accuracy: {test_acc:.4f}, Loss: {test_loss:.4f}\")\n"
   ]
  }
 ],
 "metadata": {
  "kernelspec": {
   "display_name": "Python 3",
   "language": "python",
   "name": "python3"
  },
  "language_info": {
   "codemirror_mode": {
    "name": "ipython",
    "version": 3
   },
   "file_extension": ".py",
   "mimetype": "text/x-python",
   "name": "python",
   "nbconvert_exporter": "python",
   "pygments_lexer": "ipython3",
   "version": "3.11.9"
  }
 },
 "nbformat": 4,
 "nbformat_minor": 5
}
